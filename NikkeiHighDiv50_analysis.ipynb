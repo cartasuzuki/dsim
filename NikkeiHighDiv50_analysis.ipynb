{
 "cells": [
  {
   "cell_type": "markdown",
   "metadata": {},
   "source": [
    "# Nikkei High Dividend Yield 50 Analysis with Portfolio Optimizer\n",
    "\n"
   ]
  },
  {
   "cell_type": "markdown",
   "metadata": {},
   "source": [
    "## Initialization"
   ]
  },
  {
   "cell_type": "markdown",
   "metadata": {},
   "source": [
    "First install the dep"
   ]
  },
  {
   "cell_type": "code",
   "execution_count": null,
   "metadata": {},
   "outputs": [],
   "source": [
    "!pip install git+https://github.com/robertmartin8/PyPortfolioOpt.git"
   ]
  },
  {
   "cell_type": "markdown",
   "metadata": {},
   "source": [
    "## Import libraries as necessary"
   ]
  },
  {
   "cell_type": "markdown",
   "metadata": {},
   "source": [
    "Get libraries and dataset from our repository"
   ]
  },
  {
   "cell_type": "code",
   "execution_count": 25,
   "metadata": {
    "collapsed": true
   },
   "outputs": [
    {
     "name": "stdout",
     "output_type": "stream",
     "text": [
      "--2019-01-16 06:04:44--  https://github.com/cartasuzuki/phynance/blob/master/datasets/nikkei_high_dividend_yield_50_prices.csv\n",
      "Resolving github.com (github.com)... 192.30.255.112\n",
      "Connecting to github.com (github.com)|192.30.255.112|:443... connected.\n",
      "HTTP request sent, awaiting response... 200 OK\n",
      "Length: unspecified [text/html]\n",
      "Saving to: ‘nikkei_high_dividend_yield_50_prices.csv.1’\n",
      "\n",
      "nikkei_high_dividen     [    <=>             ]   1.14M  1.77MB/s    in 0.6s    \n",
      "\n",
      "2019-01-16 06:04:46 (1.77 MB/s) - ‘nikkei_high_dividend_yield_50_prices.csv.1’ saved [1197389]\n",
      "\n",
      "--2019-01-16 06:04:46--  https://raw.githubusercontent.com/cartasuzuki/phynance/master/datasets/nikkei_high_dividend_yield_50_weight_en.csv\n",
      "Resolving raw.githubusercontent.com (raw.githubusercontent.com)... 151.101.88.133\n",
      "Connecting to raw.githubusercontent.com (raw.githubusercontent.com)|151.101.88.133|:443... connected.\n",
      "HTTP request sent, awaiting response... 200 OK\n",
      "Length: 3325 (3.2K) [text/plain]\n",
      "Saving to: ‘nikkei_high_dividend_yield_50_weight_en.csv.4’\n",
      "\n",
      "nikkei_high_dividen 100%[===================>]   3.25K  --.-KB/s    in 0s      \n",
      "\n",
      "2019-01-16 06:04:48 (41.2 MB/s) - ‘nikkei_high_dividend_yield_50_weight_en.csv.4’ saved [3325/3325]\n",
      "\n",
      "--2019-01-16 06:04:48--  https://raw.githubusercontent.com/cartasuzuki/phynance/master/PortfolioOptimizer.py\n",
      "Resolving raw.githubusercontent.com (raw.githubusercontent.com)... 151.101.88.133\n",
      "Connecting to raw.githubusercontent.com (raw.githubusercontent.com)|151.101.88.133|:443... connected.\n",
      "HTTP request sent, awaiting response... 200 OK\n",
      "Length: 2407 (2.4K) [text/plain]\n",
      "Saving to: ‘PortfolioOptimizer.py.10’\n",
      "\n",
      "PortfolioOptimizer. 100%[===================>]   2.35K  --.-KB/s    in 0s      \n",
      "\n",
      "2019-01-16 06:04:48 (44.8 MB/s) - ‘PortfolioOptimizer.py.10’ saved [2407/2407]\n",
      "\n"
     ]
    }
   ],
   "source": [
    "!wget https://github.com/cartasuzuki/phynance/blob/master/datasets/nikkei_high_dividend_yield_50_prices.csv\n",
    "!wget https://raw.githubusercontent.com/cartasuzuki/phynance/master/datasets/nikkei_high_dividend_yield_50_weight_en.csv\n",
    "!wget https://raw.githubusercontent.com/cartasuzuki/phynance/master/PortfolioOptimizer.py"
   ]
  },
  {
   "cell_type": "markdown",
   "metadata": {},
   "source": [
    "Import libraries"
   ]
  },
  {
   "cell_type": "code",
   "execution_count": 11,
   "metadata": {},
   "outputs": [],
   "source": [
    "import pandas as pd\n",
    "import matplotlib.pyplot as plt\n",
    "from PortfolioOptimizer import PortfolioOptimizer"
   ]
  },
  {
   "cell_type": "code",
   "execution_count": 15,
   "metadata": {},
   "outputs": [],
   "source": [
    "stock_symbols = pd.read_csv('nikkei_high_dividend_yield_50_weight_en.csv')"
   ]
  },
  {
   "cell_type": "markdown",
   "metadata": {},
   "source": [
    "Once we have loaded our stock symbols dataset we can either use the prices in the csv file or download prices from alphadvantage to get updated data."
   ]
  },
  {
   "cell_type": "markdown",
   "metadata": {},
   "source": [
    "### Method 1: use csv file"
   ]
  },
  {
   "cell_type": "code",
   "execution_count": null,
   "metadata": {},
   "outputs": [],
   "source": [
    "stocks = pd.read_csv('nikkei_high_dividend_yield_50_prices.csv', index_col= ['timestamp'], parse_dates= ['timestamp'])"
   ]
  },
  {
   "cell_type": "markdown",
   "metadata": {},
   "source": [
    "### Method 2: Get prices from alphadvantage"
   ]
  },
  {
   "cell_type": "code",
   "execution_count": 31,
   "metadata": {},
   "outputs": [],
   "source": [
    "nikkei50CodeString = stock_symbols['Code'].values.astype(int)\n",
    "nikkei50CodeString = nikkei50CodeString.astype(str)\n",
    "string = '.TOK'\n",
    "nikkei50CodeString = [x + string for x in nikkei50CodeString]"
   ]
  },
  {
   "cell_type": "markdown",
   "metadata": {},
   "source": [
    "Then download prices (it can take a while)"
   ]
  },
  {
   "cell_type": "code",
   "execution_count": null,
   "metadata": {},
   "outputs": [],
   "source": [
    "stocks = get_stock_prices(nikkei50CodeString)  "
   ]
  },
  {
   "cell_type": "markdown",
   "metadata": {},
   "source": [
    "## Portfolio Optimization"
   ]
  },
  {
   "cell_type": "code",
   "execution_count": 28,
   "metadata": {},
   "outputs": [],
   "source": [
    "weights, sharpe, ret = PortfolioOptimizer.optimize_portfolio(stocks,0)"
   ]
  },
  {
   "cell_type": "code",
   "execution_count": 29,
   "metadata": {},
   "outputs": [
    {
     "name": "stdout",
     "output_type": "stream",
     "text": [
      "2768.TOK: 17.0%\n",
      "4704.TOK: 7.000000000000001%\n",
      "5002.TOK: 8.0%\n",
      "8001.TOK: 11.0%\n",
      "8035.TOK: 24.0%\n",
      "8053.TOK: 7.000000000000001%\n",
      "8058.TOK: 14.000000000000002%\n",
      "8628.TOK: 5.0%\n",
      "Sharpe: 0.44\n",
      "Exp. Return: 11.26\n"
     ]
    },
    {
     "data": {
      "image/png": "[encoded data removed]",
      "text/plain": [
       "<matplotlib.figure.Figure at 0x7fed28e45ef0>"
      ]
     },
     "metadata": {},
     "output_type": "display_data"
    }
   ],
   "source": [
    "PortfolioOptimizer.print_portfolio_result(weights, sharpe, ret)\n",
    "PortfolioOptimizer.portfolioAsPieChart(weights)"
   ]
  },
  {
   "cell_type": "code",
   "execution_count": null,
   "metadata": {},
   "outputs": [],
   "source": []
  }
 ],
 "metadata": {
  "kernelspec": {
   "display_name": "Python 3",
   "language": "python",
   "name": "python3"
  },
  "language_info": {
   "codemirror_mode": {
    "name": "ipython",
    "version": 3
   },
   "file_extension": ".py",
   "mimetype": "text/x-python",
   "name": "python",
   "nbconvert_exporter": "python",
   "pygments_lexer": "ipython3",
   "version": "3.6.4"
  }
 },
 "nbformat": 4,
 "nbformat_minor": 2
}
