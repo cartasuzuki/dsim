{
  "nbformat": 4,
  "nbformat_minor": 0,
  "metadata": {
    "kernelspec": {
      "display_name": "Python 3",
      "language": "python",
      "name": "python3"
    },
    "language_info": {
      "codemirror_mode": {
        "name": "ipython",
        "version": 3
      },
      "file_extension": ".py",
      "mimetype": "text/x-python",
      "name": "python",
      "nbconvert_exporter": "python",
      "pygments_lexer": "ipython3",
      "version": "3.6.4"
    },
    "colab": {
      "name": "NikkeiHighDiv50_analysis_drop_some.ipynb",
      "provenance": []
    }
  },
  "cells": [
    {
      "cell_type": "markdown",
      "metadata": {
        "id": "pbnDi_Nzq8P2",
        "colab_type": "text"
      },
      "source": [
        "# Nikkei High Dividend Yield 50 Analysis with Portfolio Optimizer\n",
        "\n"
      ]
    },
    {
      "cell_type": "markdown",
      "metadata": {
        "id": "Va635zTpq8P9",
        "colab_type": "text"
      },
      "source": [
        "## Initialization"
      ]
    },
    {
      "cell_type": "markdown",
      "metadata": {
        "id": "u-izkbEyq8QD",
        "colab_type": "text"
      },
      "source": [
        "If you are using CoLab, first install the dependency PyPortfolioOpt"
      ]
    },
    {
      "cell_type": "code",
      "metadata": {
        "id": "yRI2zU67q8QI",
        "colab_type": "code",
        "colab": {
          "base_uri": "https://localhost:8080/",
          "height": 159
        },
        "outputId": "ce72e082-2061-4900-8490-dd6b6076b900"
      },
      "source": [
        "!pip install git+https://github.com/robertmartin8/PyPortfolioOpt.git"
      ],
      "execution_count": 1,
      "outputs": [
        {
          "output_type": "stream",
          "text": [
            "Collecting git+https://github.com/robertmartin8/PyPortfolioOpt.git\n",
            "  Cloning https://github.com/robertmartin8/PyPortfolioOpt.git to /tmp/pip-req-build-1sosb1t3\n",
            "  Running command git clone -q https://github.com/robertmartin8/PyPortfolioOpt.git /tmp/pip-req-build-1sosb1t3\n",
            "  Installing build dependencies ... \u001b[?25l\u001b[?25hdone\n",
            "  Getting requirements to build wheel ... \u001b[?25l\u001b[?25hdone\n",
            "    Preparing wheel metadata ... \u001b[?25l\u001b[?25herror\n",
            "\u001b[31mERROR: Command errored out with exit status 1: /usr/bin/python3 /usr/local/lib/python3.6/dist-packages/pip/_vendor/pep517/_in_process.py prepare_metadata_for_build_wheel /tmp/tmpi11vf528 Check the logs for full command output.\u001b[0m\n"
          ],
          "name": "stdout"
        }
      ]
    },
    {
      "cell_type": "markdown",
      "metadata": {
        "id": "rAn2mhsdq8Qc",
        "colab_type": "text"
      },
      "source": [
        "Then get our PortfolioOptimizer library"
      ]
    },
    {
      "cell_type": "code",
      "metadata": {
        "id": "W9_oJcnbrl9E",
        "colab_type": "code",
        "colab": {
          "base_uri": "https://localhost:8080/",
          "height": 139
        },
        "outputId": "9a9973bc-948e-4a1c-c2ff-12a919cd0a23"
      },
      "source": [
        "!git clone https://github.com/robertmartin8/PyPortfolioOpt"
      ],
      "execution_count": 3,
      "outputs": [
        {
          "output_type": "stream",
          "text": [
            "Cloning into 'PyPortfolioOpt'...\n",
            "remote: Enumerating objects: 52, done.\u001b[K\n",
            "remote: Counting objects:   1% (1/52)\u001b[K\rremote: Counting objects:   3% (2/52)\u001b[K\rremote: Counting objects:   5% (3/52)\u001b[K\rremote: Counting objects:   7% (4/52)\u001b[K\rremote: Counting objects:   9% (5/52)\u001b[K\rremote: Counting objects:  11% (6/52)\u001b[K\rremote: Counting objects:  13% (7/52)\u001b[K\rremote: Counting objects:  15% (8/52)\u001b[K\rremote: Counting objects:  17% (9/52)\u001b[K\rremote: Counting objects:  19% (10/52)\u001b[K\rremote: Counting objects:  21% (11/52)\u001b[K\rremote: Counting objects:  23% (12/52)\u001b[K\rremote: Counting objects:  25% (13/52)\u001b[K\rremote: Counting objects:  26% (14/52)\u001b[K\rremote: Counting objects:  28% (15/52)\u001b[K\rremote: Counting objects:  30% (16/52)\u001b[K\rremote: Counting objects:  32% (17/52)\u001b[K\rremote: Counting objects:  34% (18/52)\u001b[K\rremote: Counting objects:  36% (19/52)\u001b[K\rremote: Counting objects:  38% (20/52)\u001b[K\rremote: Counting objects:  40% (21/52)\u001b[K\rremote: Counting objects:  42% (22/52)\u001b[K\rremote: Counting objects:  44% (23/52)\u001b[K\rremote: Counting objects:  46% (24/52)\u001b[K\rremote: Counting objects:  48% (25/52)\u001b[K\rremote: Counting objects:  50% (26/52)\u001b[K\rremote: Counting objects:  51% (27/52)\u001b[K\rremote: Counting objects:  53% (28/52)\u001b[K\rremote: Counting objects:  55% (29/52)\u001b[K\rremote: Counting objects:  57% (30/52)\u001b[K\rremote: Counting objects:  59% (31/52)\u001b[K\rremote: Counting objects:  61% (32/52)\u001b[K\rremote: Counting objects:  63% (33/52)\u001b[K\rremote: Counting objects:  65% (34/52)\u001b[K\rremote: Counting objects:  67% (35/52)\u001b[K\rremote: Counting objects:  69% (36/52)\u001b[K\rremote: Counting objects:  71% (37/52)\u001b[K\rremote: Counting objects:  73% (38/52)\u001b[K\rremote: Counting objects:  75% (39/52)\u001b[K\rremote: Counting objects:  76% (40/52)\u001b[K\rremote: Counting objects:  78% (41/52)\u001b[K\rremote: Counting objects:  80% (42/52)\u001b[K\rremote: Counting objects:  82% (43/52)\u001b[K\rremote: Counting objects:  84% (44/52)\u001b[K\rremote: Counting objects:  86% (45/52)\u001b[K\rremote: Counting objects:  88% (46/52)\u001b[K\rremote: Counting objects:  90% (47/52)\u001b[K\rremote: Counting objects:  92% (48/52)\u001b[K\rremote: Counting objects:  94% (49/52)\u001b[K\rremote: Counting objects:  96% (50/52)\u001b[K\rremote: Counting objects:  98% (51/52)\u001b[K\rremote: Counting objects: 100% (52/52)\u001b[K\rremote: Counting objects: 100% (52/52), done.\u001b[K\n",
            "remote: Compressing objects:   3% (1/31)\u001b[K\rremote: Compressing objects:   6% (2/31)\u001b[K\rremote: Compressing objects:   9% (3/31)\u001b[K\rremote: Compressing objects:  12% (4/31)\u001b[K\rremote: Compressing objects:  16% (5/31)\u001b[K\rremote: Compressing objects:  19% (6/31)\u001b[K\rremote: Compressing objects:  22% (7/31)\u001b[K\rremote: Compressing objects:  25% (8/31)\u001b[K\rremote: Compressing objects:  29% (9/31)\u001b[K\rremote: Compressing objects:  32% (10/31)\u001b[K\rremote: Compressing objects:  35% (11/31)\u001b[K\rremote: Compressing objects:  38% (12/31)\u001b[K\rremote: Compressing objects:  41% (13/31)\u001b[K\rremote: Compressing objects:  45% (14/31)\u001b[K\rremote: Compressing objects:  48% (15/31)\u001b[K\rremote: Compressing objects:  51% (16/31)\u001b[K\rremote: Compressing objects:  54% (17/31)\u001b[K\rremote: Compressing objects:  58% (18/31)\u001b[K\rremote: Compressing objects:  61% (19/31)\u001b[K\rremote: Compressing objects:  64% (20/31)\u001b[K\rremote: Compressing objects:  67% (21/31)\u001b[K\rremote: Compressing objects:  70% (22/31)\u001b[K\rremote: Compressing objects:  74% (23/31)\u001b[K\rremote: Compressing objects:  77% (24/31)\u001b[K\rremote: Compressing objects:  80% (25/31)\u001b[K\rremote: Compressing objects:  83% (26/31)\u001b[K\rremote: Compressing objects:  87% (27/31)\u001b[K\rremote: Compressing objects:  90% (28/31)\u001b[K\rremote: Compressing objects:  93% (29/31)\u001b[K\rremote: Compressing objects:  96% (30/31)\u001b[K\rremote: Compressing objects: 100% (31/31)\u001b[K\rremote: Compressing objects: 100% (31/31), done.\u001b[K\n",
            "Receiving objects:   0% (1/1379)   \rReceiving objects:   1% (14/1379)   \rReceiving objects:   2% (28/1379)   \rReceiving objects:   3% (42/1379)   \rReceiving objects:   4% (56/1379)   \rReceiving objects:   5% (69/1379)   \rReceiving objects:   6% (83/1379)   \rReceiving objects:   7% (97/1379)   \rReceiving objects:   8% (111/1379)   \rReceiving objects:   9% (125/1379)   \rReceiving objects:  10% (138/1379)   \rReceiving objects:  11% (152/1379)   \rReceiving objects:  12% (166/1379)   \rReceiving objects:  13% (180/1379)   \rReceiving objects:  14% (194/1379)   \rReceiving objects:  15% (207/1379)   \rReceiving objects:  16% (221/1379)   \rReceiving objects:  17% (235/1379)   \rReceiving objects:  18% (249/1379)   \rReceiving objects:  19% (263/1379)   \rReceiving objects:  20% (276/1379)   \rReceiving objects:  21% (290/1379)   \rReceiving objects:  22% (304/1379)   \rReceiving objects:  23% (318/1379)   \rReceiving objects:  24% (331/1379)   \rReceiving objects:  25% (345/1379)   \rReceiving objects:  26% (359/1379)   \rReceiving objects:  27% (373/1379)   \rReceiving objects:  28% (387/1379)   \rReceiving objects:  29% (400/1379)   \rReceiving objects:  30% (414/1379)   \rReceiving objects:  31% (428/1379)   \rReceiving objects:  32% (442/1379)   \rReceiving objects:  33% (456/1379)   \rReceiving objects:  34% (469/1379)   \rReceiving objects:  35% (483/1379)   \rReceiving objects:  36% (497/1379)   \rReceiving objects:  37% (511/1379)   \rReceiving objects:  38% (525/1379)   \rReceiving objects:  39% (538/1379)   \rReceiving objects:  40% (552/1379)   \rReceiving objects:  41% (566/1379)   \rReceiving objects:  42% (580/1379)   \rReceiving objects:  43% (593/1379)   \rReceiving objects:  44% (607/1379)   \rReceiving objects:  45% (621/1379)   \rReceiving objects:  46% (635/1379)   \rReceiving objects:  47% (649/1379)   \rReceiving objects:  48% (662/1379)   \rReceiving objects:  49% (676/1379)   \rReceiving objects:  50% (690/1379)   \rReceiving objects:  51% (704/1379)   \rReceiving objects:  52% (718/1379)   \rReceiving objects:  53% (731/1379)   \rReceiving objects:  54% (745/1379)   \rReceiving objects:  55% (759/1379)   \rReceiving objects:  56% (773/1379)   \rReceiving objects:  57% (787/1379)   \rReceiving objects:  58% (800/1379)   \rReceiving objects:  59% (814/1379)   \rReceiving objects:  60% (828/1379)   \rReceiving objects:  61% (842/1379)   \rReceiving objects:  62% (855/1379)   \rReceiving objects:  63% (869/1379)   \rReceiving objects:  64% (883/1379)   \rReceiving objects:  65% (897/1379)   \rReceiving objects:  66% (911/1379)   \rReceiving objects:  67% (924/1379)   \rReceiving objects:  68% (938/1379)   \rReceiving objects:  69% (952/1379)   \rReceiving objects:  70% (966/1379)   \rReceiving objects:  71% (980/1379)   \rReceiving objects:  72% (993/1379)   \rReceiving objects:  73% (1007/1379)   \rReceiving objects:  74% (1021/1379)   \rReceiving objects:  75% (1035/1379)   \rReceiving objects:  76% (1049/1379)   \rReceiving objects:  77% (1062/1379)   \rReceiving objects:  78% (1076/1379)   \rReceiving objects:  79% (1090/1379)   \rReceiving objects:  80% (1104/1379)   \rReceiving objects:  81% (1117/1379)   \rReceiving objects:  82% (1131/1379)   \rReceiving objects:  83% (1145/1379)   \rReceiving objects:  84% (1159/1379)   \rReceiving objects:  85% (1173/1379)   \rReceiving objects:  86% (1186/1379)   \rReceiving objects:  87% (1200/1379)   \rReceiving objects:  88% (1214/1379)   \rReceiving objects:  89% (1228/1379)   \rReceiving objects:  90% (1242/1379)   \rReceiving objects:  91% (1255/1379)   \rReceiving objects:  92% (1269/1379)   \rReceiving objects:  93% (1283/1379)   \rReceiving objects:  94% (1297/1379)   \rReceiving objects:  95% (1311/1379)   \rremote: Total 1379 (delta 25), reused 39 (delta 21), pack-reused 1327\u001b[K\n",
            "Receiving objects:  96% (1324/1379)   \rReceiving objects:  97% (1338/1379)   \rReceiving objects:  98% (1352/1379)   \rReceiving objects:  99% (1366/1379)   \rReceiving objects: 100% (1379/1379)   \rReceiving objects: 100% (1379/1379), 3.96 MiB | 24.57 MiB/s, done.\n",
            "Resolving deltas:   0% (0/926)   \rResolving deltas:   2% (22/926)   \rResolving deltas:   5% (51/926)   \rResolving deltas:   6% (56/926)   \rResolving deltas:   7% (73/926)   \rResolving deltas:   8% (80/926)   \rResolving deltas:  10% (94/926)   \rResolving deltas:  11% (102/926)   \rResolving deltas:  12% (112/926)   \rResolving deltas:  13% (129/926)   \rResolving deltas:  15% (144/926)   \rResolving deltas:  17% (164/926)   \rResolving deltas:  18% (172/926)   \rResolving deltas:  21% (202/926)   \rResolving deltas:  22% (212/926)   \rResolving deltas:  23% (215/926)   \rResolving deltas:  24% (223/926)   \rResolving deltas:  25% (238/926)   \rResolving deltas:  26% (246/926)   \rResolving deltas:  27% (253/926)   \rResolving deltas:  29% (269/926)   \rResolving deltas:  31% (290/926)   \rResolving deltas:  33% (313/926)   \rResolving deltas:  34% (318/926)   \rResolving deltas:  35% (329/926)   \rResolving deltas:  36% (335/926)   \rResolving deltas:  41% (382/926)   \rResolving deltas:  42% (391/926)   \rResolving deltas:  44% (409/926)   \rResolving deltas:  45% (420/926)   \rResolving deltas:  46% (429/926)   \rResolving deltas:  48% (450/926)   \rResolving deltas:  49% (455/926)   \rResolving deltas:  50% (469/926)   \rResolving deltas:  55% (511/926)   \rResolving deltas:  56% (524/926)   \rResolving deltas:  57% (532/926)   \rResolving deltas:  59% (554/926)   \rResolving deltas:  60% (557/926)   \rResolving deltas:  61% (565/926)   \rResolving deltas:  65% (606/926)   \rResolving deltas:  69% (644/926)   \rResolving deltas:  70% (652/926)   \rResolving deltas:  73% (678/926)   \rResolving deltas:  81% (754/926)   \rResolving deltas:  84% (782/926)   \rResolving deltas:  86% (799/926)   \rResolving deltas:  89% (825/926)   \rResolving deltas:  90% (838/926)   \rResolving deltas:  91% (845/926)   \rResolving deltas:  92% (854/926)   \rResolving deltas:  94% (878/926)   \rResolving deltas:  96% (890/926)   \rResolving deltas:  97% (899/926)   \rResolving deltas:  98% (908/926)   \rResolving deltas:  99% (918/926)   \rResolving deltas: 100% (926/926)   \rResolving deltas: 100% (926/926), done.\n"
          ],
          "name": "stdout"
        }
      ]
    },
    {
      "cell_type": "code",
      "metadata": {
        "id": "BM6XvwD3r5HG",
        "colab_type": "code",
        "colab": {
          "base_uri": "https://localhost:8080/",
          "height": 1000
        },
        "outputId": "287372e0-7553-4686-eed8-83baf59ef883"
      },
      "source": [
        "%cd PyPortfolioOpt\n",
        "!python setup.py install"
      ],
      "execution_count": 16,
      "outputs": [
        {
          "output_type": "stream",
          "text": [
            "/content/PyPortfolioOpt\n",
            "running install\n",
            "running bdist_egg\n",
            "running egg_info\n",
            "creating PyPortfolioOpt.egg-info\n",
            "writing PyPortfolioOpt.egg-info/PKG-INFO\n",
            "writing dependency_links to PyPortfolioOpt.egg-info/dependency_links.txt\n",
            "writing requirements to PyPortfolioOpt.egg-info/requires.txt\n",
            "writing top-level names to PyPortfolioOpt.egg-info/top_level.txt\n",
            "writing manifest file 'PyPortfolioOpt.egg-info/SOURCES.txt'\n",
            "writing manifest file 'PyPortfolioOpt.egg-info/SOURCES.txt'\n",
            "installing library code to build/bdist.linux-x86_64/egg\n",
            "running install_lib\n",
            "running build_py\n",
            "creating build\n",
            "creating build/lib\n",
            "creating build/lib/pypfopt\n",
            "copying pypfopt/cla.py -> build/lib/pypfopt\n",
            "copying pypfopt/objective_functions.py -> build/lib/pypfopt\n",
            "copying pypfopt/base_optimizer.py -> build/lib/pypfopt\n",
            "copying pypfopt/discrete_allocation.py -> build/lib/pypfopt\n",
            "copying pypfopt/black_litterman.py -> build/lib/pypfopt\n",
            "copying pypfopt/hierarchical_risk_parity.py -> build/lib/pypfopt\n",
            "copying pypfopt/value_at_risk.py -> build/lib/pypfopt\n",
            "copying pypfopt/__init__.py -> build/lib/pypfopt\n",
            "copying pypfopt/efficient_frontier.py -> build/lib/pypfopt\n",
            "copying pypfopt/risk_models.py -> build/lib/pypfopt\n",
            "copying pypfopt/expected_returns.py -> build/lib/pypfopt\n",
            "creating build/bdist.linux-x86_64\n",
            "creating build/bdist.linux-x86_64/egg\n",
            "creating build/bdist.linux-x86_64/egg/pypfopt\n",
            "copying build/lib/pypfopt/cla.py -> build/bdist.linux-x86_64/egg/pypfopt\n",
            "copying build/lib/pypfopt/objective_functions.py -> build/bdist.linux-x86_64/egg/pypfopt\n",
            "copying build/lib/pypfopt/base_optimizer.py -> build/bdist.linux-x86_64/egg/pypfopt\n",
            "copying build/lib/pypfopt/discrete_allocation.py -> build/bdist.linux-x86_64/egg/pypfopt\n",
            "copying build/lib/pypfopt/black_litterman.py -> build/bdist.linux-x86_64/egg/pypfopt\n",
            "copying build/lib/pypfopt/hierarchical_risk_parity.py -> build/bdist.linux-x86_64/egg/pypfopt\n",
            "copying build/lib/pypfopt/value_at_risk.py -> build/bdist.linux-x86_64/egg/pypfopt\n",
            "copying build/lib/pypfopt/__init__.py -> build/bdist.linux-x86_64/egg/pypfopt\n",
            "copying build/lib/pypfopt/efficient_frontier.py -> build/bdist.linux-x86_64/egg/pypfopt\n",
            "copying build/lib/pypfopt/risk_models.py -> build/bdist.linux-x86_64/egg/pypfopt\n",
            "copying build/lib/pypfopt/expected_returns.py -> build/bdist.linux-x86_64/egg/pypfopt\n",
            "byte-compiling build/bdist.linux-x86_64/egg/pypfopt/cla.py to cla.cpython-36.pyc\n",
            "byte-compiling build/bdist.linux-x86_64/egg/pypfopt/objective_functions.py to objective_functions.cpython-36.pyc\n",
            "byte-compiling build/bdist.linux-x86_64/egg/pypfopt/base_optimizer.py to base_optimizer.cpython-36.pyc\n",
            "byte-compiling build/bdist.linux-x86_64/egg/pypfopt/discrete_allocation.py to discrete_allocation.cpython-36.pyc\n",
            "byte-compiling build/bdist.linux-x86_64/egg/pypfopt/black_litterman.py to black_litterman.cpython-36.pyc\n",
            "byte-compiling build/bdist.linux-x86_64/egg/pypfopt/hierarchical_risk_parity.py to hierarchical_risk_parity.cpython-36.pyc\n",
            "byte-compiling build/bdist.linux-x86_64/egg/pypfopt/value_at_risk.py to value_at_risk.cpython-36.pyc\n",
            "byte-compiling build/bdist.linux-x86_64/egg/pypfopt/__init__.py to __init__.cpython-36.pyc\n",
            "byte-compiling build/bdist.linux-x86_64/egg/pypfopt/efficient_frontier.py to efficient_frontier.cpython-36.pyc\n",
            "byte-compiling build/bdist.linux-x86_64/egg/pypfopt/risk_models.py to risk_models.cpython-36.pyc\n",
            "byte-compiling build/bdist.linux-x86_64/egg/pypfopt/expected_returns.py to expected_returns.cpython-36.pyc\n",
            "creating build/bdist.linux-x86_64/egg/EGG-INFO\n",
            "copying PyPortfolioOpt.egg-info/PKG-INFO -> build/bdist.linux-x86_64/egg/EGG-INFO\n",
            "copying PyPortfolioOpt.egg-info/SOURCES.txt -> build/bdist.linux-x86_64/egg/EGG-INFO\n",
            "copying PyPortfolioOpt.egg-info/dependency_links.txt -> build/bdist.linux-x86_64/egg/EGG-INFO\n",
            "copying PyPortfolioOpt.egg-info/requires.txt -> build/bdist.linux-x86_64/egg/EGG-INFO\n",
            "copying PyPortfolioOpt.egg-info/top_level.txt -> build/bdist.linux-x86_64/egg/EGG-INFO\n",
            "zip_safe flag not set; analyzing archive contents...\n",
            "creating dist\n",
            "creating 'dist/PyPortfolioOpt-0.5.3-py3.6.egg' and adding 'build/bdist.linux-x86_64/egg' to it\n",
            "removing 'build/bdist.linux-x86_64/egg' (and everything under it)\n",
            "Processing PyPortfolioOpt-0.5.3-py3.6.egg\n",
            "Copying PyPortfolioOpt-0.5.3-py3.6.egg to /usr/local/lib/python3.6/dist-packages\n",
            "Adding PyPortfolioOpt 0.5.3 to easy-install.pth file\n",
            "\n",
            "Installed /usr/local/lib/python3.6/dist-packages/PyPortfolioOpt-0.5.3-py3.6.egg\n",
            "Processing dependencies for PyPortfolioOpt==0.5.3\n",
            "Searching for scipy==1.4.1\n",
            "Best match: scipy 1.4.1\n",
            "Adding scipy 1.4.1 to easy-install.pth file\n",
            "\n",
            "Using /usr/local/lib/python3.6/dist-packages\n",
            "Searching for pandas==0.25.3\n",
            "Best match: pandas 0.25.3\n",
            "Adding pandas 0.25.3 to easy-install.pth file\n",
            "\n",
            "Using /usr/local/lib/python3.6/dist-packages\n",
            "Searching for numpy==1.17.5\n",
            "Best match: numpy 1.17.5\n",
            "Adding numpy 1.17.5 to easy-install.pth file\n",
            "Installing f2py script to /usr/local/bin\n",
            "Installing f2py3 script to /usr/local/bin\n",
            "Installing f2py3.6 script to /usr/local/bin\n",
            "\n",
            "Using /usr/local/lib/python3.6/dist-packages\n",
            "Searching for python-dateutil==2.6.1\n",
            "Best match: python-dateutil 2.6.1\n",
            "Adding python-dateutil 2.6.1 to easy-install.pth file\n",
            "\n",
            "Using /usr/local/lib/python3.6/dist-packages\n",
            "Searching for pytz==2018.9\n",
            "Best match: pytz 2018.9\n",
            "Adding pytz 2018.9 to easy-install.pth file\n",
            "\n",
            "Using /usr/local/lib/python3.6/dist-packages\n",
            "Searching for six==1.12.0\n",
            "Best match: six 1.12.0\n",
            "Adding six 1.12.0 to easy-install.pth file\n",
            "\n",
            "Using /usr/local/lib/python3.6/dist-packages\n",
            "Finished processing dependencies for PyPortfolioOpt==0.5.3\n"
          ],
          "name": "stdout"
        }
      ]
    },
    {
      "cell_type": "code",
      "metadata": {
        "id": "5I2OQ83I5g0i",
        "colab_type": "code",
        "colab": {
          "base_uri": "https://localhost:8080/",
          "height": 52
        },
        "outputId": "17ac3810-cc34-49d9-85cf-8286d97b9d76"
      },
      "source": [
        "%cd /content/\n"
      ],
      "execution_count": 18,
      "outputs": [
        {
          "output_type": "stream",
          "text": [
            "/content\n",
            "/content\n"
          ],
          "name": "stdout"
        }
      ]
    },
    {
      "cell_type": "code",
      "metadata": {
        "id": "nBRlz7YsseL-",
        "colab_type": "code",
        "colab": {
          "base_uri": "https://localhost:8080/",
          "height": 52
        },
        "outputId": "5bf6c229-2cf5-47e4-9d9c-d60b8abe69f5"
      },
      "source": [
        "%cd PyPortfolioOpt"
      ],
      "execution_count": 29,
      "outputs": [
        {
          "output_type": "stream",
          "text": [
            "[Errno 2] No such file or directory: 'PyPortfolioOpt'\n",
            "/content/PyPortfolioOpt\n"
          ],
          "name": "stdout"
        }
      ]
    },
    {
      "cell_type": "code",
      "metadata": {
        "collapsed": true,
        "id": "nfMI0k9zq8Qh",
        "colab_type": "code",
        "colab": {
          "base_uri": "https://localhost:8080/",
          "height": 208
        },
        "outputId": "b9d3285f-c687-41ef-941f-4be036ad357b"
      },
      "source": [
        "!wget https://raw.githubusercontent.com/cartasuzuki/phynance/master/PortfolioOptimizer.py"
      ],
      "execution_count": 30,
      "outputs": [
        {
          "output_type": "stream",
          "text": [
            "--2020-02-16 02:55:58--  https://raw.githubusercontent.com/cartasuzuki/phynance/master/PortfolioOptimizer.py\n",
            "Resolving raw.githubusercontent.com (raw.githubusercontent.com)... 151.101.0.133, 151.101.64.133, 151.101.128.133, ...\n",
            "Connecting to raw.githubusercontent.com (raw.githubusercontent.com)|151.101.0.133|:443... connected.\n",
            "HTTP request sent, awaiting response... 200 OK\n",
            "Length: 2701 (2.6K) [text/plain]\n",
            "Saving to: ‘PortfolioOptimizer.py’\n",
            "\n",
            "\rPortfolioOptimizer.   0%[                    ]       0  --.-KB/s               \rPortfolioOptimizer. 100%[===================>]   2.64K  --.-KB/s    in 0s      \n",
            "\n",
            "2020-02-16 02:55:59 (51.5 MB/s) - ‘PortfolioOptimizer.py’ saved [2701/2701]\n",
            "\n"
          ],
          "name": "stdout"
        }
      ]
    },
    {
      "cell_type": "code",
      "metadata": {
        "id": "DrVIFCIXr34d",
        "colab_type": "code",
        "colab": {
          "base_uri": "https://localhost:8080/",
          "height": 34
        },
        "outputId": "5538b1e6-e3df-4b06-b212-f1a48ccfb175"
      },
      "source": [
        "%cd PyPortfolioOpt"
      ],
      "execution_count": 24,
      "outputs": [
        {
          "output_type": "stream",
          "text": [
            "/content/PyPortfolioOpt\n"
          ],
          "name": "stdout"
        }
      ]
    },
    {
      "cell_type": "markdown",
      "metadata": {
        "id": "yuS1gUcrq8Qu",
        "colab_type": "text"
      },
      "source": [
        "Import libraries"
      ]
    },
    {
      "cell_type": "code",
      "metadata": {
        "id": "2FawDYZ4q8Qy",
        "colab_type": "code",
        "colab": {}
      },
      "source": [
        "import pandas as pd\n",
        "import matplotlib.pyplot as plt\n",
        "import numpy as np\n",
        "import pypfopt\n",
        "from PortfolioOptimizer import PortfolioOptimizer"
      ],
      "execution_count": 0,
      "outputs": []
    },
    {
      "cell_type": "code",
      "metadata": {
        "id": "AH0Ji7ae7TyW",
        "colab_type": "code",
        "colab": {}
      },
      "source": [
        ""
      ],
      "execution_count": 0,
      "outputs": []
    },
    {
      "cell_type": "code",
      "metadata": {
        "id": "bUAyiwKS6RO7",
        "colab_type": "code",
        "colab": {}
      },
      "source": [
        "from PortfolioOptimizer import PortfolioOptimizer"
      ],
      "execution_count": 0,
      "outputs": []
    },
    {
      "cell_type": "markdown",
      "metadata": {
        "id": "i2Z75sVdq8RH",
        "colab_type": "text"
      },
      "source": [
        "Get Dataset"
      ]
    },
    {
      "cell_type": "code",
      "metadata": {
        "id": "H8-J_cmxq8RK",
        "colab_type": "code",
        "colab": {}
      },
      "source": [
        "stock_symbols = pd.read_csv('https://raw.githubusercontent.com/cartasuzuki/phynance/master/datasets/nikkei_high_dividend_yield_50_weight_en.csv')"
      ],
      "execution_count": 0,
      "outputs": []
    },
    {
      "cell_type": "code",
      "metadata": {
        "id": "ulPW8nhLq8RW",
        "colab_type": "code",
        "colab": {}
      },
      "source": [
        ""
      ],
      "execution_count": 0,
      "outputs": []
    },
    {
      "cell_type": "markdown",
      "metadata": {
        "id": "7_021wFNq8Rd",
        "colab_type": "text"
      },
      "source": [
        "Once we have loaded our stock symbols dataset we can either use the prices in the csv file or download prices from alphadvantage to get updated data."
      ]
    },
    {
      "cell_type": "markdown",
      "metadata": {
        "id": "JjK3NM_jq8Rh",
        "colab_type": "text"
      },
      "source": [
        "### Filter out some stocks from the index"
      ]
    },
    {
      "cell_type": "markdown",
      "metadata": {
        "id": "KFNsHoW-q8Rk",
        "colab_type": "text"
      },
      "source": [
        "Chose a minimum div/yield. Set to 0 if you want to use all stocks in the index"
      ]
    },
    {
      "cell_type": "code",
      "metadata": {
        "id": "p8ZWkhdFq8Ro",
        "colab_type": "code",
        "colab": {}
      },
      "source": [
        "min_yield = 3.7"
      ],
      "execution_count": 0,
      "outputs": []
    },
    {
      "cell_type": "code",
      "metadata": {
        "id": "7LGiPqKoq8Rx",
        "colab_type": "code",
        "colab": {}
      },
      "source": [
        "selected_stocks = stock_symbols[stock_symbols['Dividend']>min_yield]"
      ],
      "execution_count": 0,
      "outputs": []
    },
    {
      "cell_type": "markdown",
      "metadata": {
        "id": "fG3kdeekq8R5",
        "colab_type": "text"
      },
      "source": [
        "Create a filter string (highDivString) to be used later to filter stocks with lower yield than min_yield"
      ]
    },
    {
      "cell_type": "code",
      "metadata": {
        "id": "9Fl4yx03q8R9",
        "colab_type": "code",
        "colab": {}
      },
      "source": [
        "highDivString = selected_stocks['Code'].values.astype(int)\n",
        "highDivString = highDivString.astype(str)\n",
        "string = '.TOK'\n",
        "highDivString = [x + string for x in highDivString]"
      ],
      "execution_count": 0,
      "outputs": []
    },
    {
      "cell_type": "code",
      "metadata": {
        "id": "_SDwFyC3q8SH",
        "colab_type": "code",
        "colab": {}
      },
      "source": [
        ""
      ],
      "execution_count": 0,
      "outputs": []
    },
    {
      "cell_type": "markdown",
      "metadata": {
        "id": "T-d1Ql4Oq8SP",
        "colab_type": "text"
      },
      "source": [
        "### Method 1: use csv file"
      ]
    },
    {
      "cell_type": "markdown",
      "metadata": {
        "id": "n3x8hxiYq8ST",
        "colab_type": "text"
      },
      "source": [
        "Read the stock prices from the csv provided in our repository"
      ]
    },
    {
      "cell_type": "code",
      "metadata": {
        "id": "P9zJ2nwXq8SV",
        "colab_type": "code",
        "colab": {}
      },
      "source": [
        "stocks = pd.read_csv('https://raw.githubusercontent.com/cartasuzuki/phynance/master/datasets/nikkei_high_dividend_yield_50_prices.csv', index_col= ['timestamp'], parse_dates= ['timestamp'])"
      ],
      "execution_count": 0,
      "outputs": []
    },
    {
      "cell_type": "markdown",
      "metadata": {
        "id": "4ecC9xsyq8Sd",
        "colab_type": "text"
      },
      "source": [
        "If you want higher yield filter out using the filter previously created"
      ]
    },
    {
      "cell_type": "code",
      "metadata": {
        "id": "W2EA2Daxq8Sg",
        "colab_type": "code",
        "colab": {}
      },
      "source": [
        "stocks = stocks[highDivString]"
      ],
      "execution_count": 0,
      "outputs": []
    },
    {
      "cell_type": "markdown",
      "metadata": {
        "id": "VVZcaEbuq8Sn",
        "colab_type": "text"
      },
      "source": [
        "### Method 2: Get prices from alphadvantage"
      ]
    },
    {
      "cell_type": "markdown",
      "metadata": {
        "id": "PbmG31cTq8Sq",
        "colab_type": "text"
      },
      "source": [
        "Using the highDivString filter, download prices from alpadvantage"
      ]
    },
    {
      "cell_type": "code",
      "metadata": {
        "id": "VxJtlu34q8Ss",
        "colab_type": "code",
        "colab": {}
      },
      "source": [
        "stocks = PortfolioOptimizer.get_stock_prices(highDivString)  "
      ],
      "execution_count": 0,
      "outputs": []
    },
    {
      "cell_type": "markdown",
      "metadata": {
        "id": "4HqGKNzRq8Sz",
        "colab_type": "text"
      },
      "source": [
        "## Remove some stocks to improve sectore coverage"
      ]
    },
    {
      "cell_type": "code",
      "metadata": {
        "id": "94vWybQ_q8S2",
        "colab_type": "code",
        "colab": {}
      },
      "source": [
        "droplist = ['8002.TOK','8058.TOK','2768.TOK' ]\n",
        "stocks = stocks.drop(droplist, axis = 1)"
      ],
      "execution_count": 0,
      "outputs": []
    },
    {
      "cell_type": "markdown",
      "metadata": {
        "id": "vitWvz8dq8S7",
        "colab_type": "text"
      },
      "source": [
        "## Portfolio Optimization"
      ]
    },
    {
      "cell_type": "code",
      "metadata": {
        "id": "feaE5uVeq8S9",
        "colab_type": "code",
        "colab": {}
      },
      "source": [
        "weights, sharpe, ret = PortfolioOptimizer.optimize_portfolio(stocks,0)"
      ],
      "execution_count": 0,
      "outputs": []
    },
    {
      "cell_type": "code",
      "metadata": {
        "id": "lx0YcYoUq8TE",
        "colab_type": "code",
        "colab": {},
        "outputId": "0bf9d757-4e23-4937-babf-3ecaa8a7a78c"
      },
      "source": [
        "PortfolioOptimizer.print_portfolio_result(weights, sharpe, ret)\n",
        "PortfolioOptimizer.portfolioAsPieChart(weights)"
      ],
      "execution_count": 0,
      "outputs": [
        {
          "output_type": "stream",
          "text": [
            "8035.TOK: 37.0%\n",
            "8053.TOK: 24.0%\n",
            "8628.TOK: 19.0%\n",
            "9437.TOK: 15.0%\n",
            "Sharpe: 0.36\n",
            "Exp. Return: 9.49\n"
          ],
          "name": "stdout"
        },
        {
          "output_type": "display_data",
          "data": {
            "image/png": "[encoded data removed]",
            "text/plain": [
              "<matplotlib.figure.Figure at 0x7fe34fbd8978>"
            ]
          },
          "metadata": {
            "tags": []
          }
        }
      ]
    },
    {
      "cell_type": "markdown",
      "metadata": {
        "id": "slzFTd0mq8TL",
        "colab_type": "text"
      },
      "source": [
        "Average yield"
      ]
    },
    {
      "cell_type": "code",
      "metadata": {
        "id": "gZ0cNsfdq8TN",
        "colab_type": "code",
        "colab": {},
        "outputId": "25d29d0a-3060-4e9d-878e-b74007ca688c"
      },
      "source": [
        "selected_stocks['Dividend'].mean()"
      ],
      "execution_count": 0,
      "outputs": [
        {
          "output_type": "execute_result",
          "data": {
            "text/plain": [
              "4.3795238095238105"
            ]
          },
          "metadata": {
            "tags": []
          },
          "execution_count": 15
        }
      ]
    },
    {
      "cell_type": "markdown",
      "metadata": {
        "id": "Bb1UZQ_Dq8TV",
        "colab_type": "text"
      },
      "source": [
        "Remove 0s and TOK string."
      ]
    },
    {
      "cell_type": "code",
      "metadata": {
        "id": "sdon1e9qq8TX",
        "colab_type": "code",
        "colab": {}
      },
      "source": [
        "www ={x:y for x,y in weights.items() if y>0.001}\n",
        "portfolio =list(www.keys())\n",
        "portfoliovalues = list(www.values())\n",
        "portfolio = [s.replace('.TOK','') for s in portfolio]"
      ],
      "execution_count": 0,
      "outputs": []
    },
    {
      "cell_type": "code",
      "metadata": {
        "id": "P99z0B3Xq8Te",
        "colab_type": "code",
        "colab": {}
      },
      "source": [
        ""
      ],
      "execution_count": 0,
      "outputs": []
    },
    {
      "cell_type": "markdown",
      "metadata": {
        "id": "5zmCZ7AYq8Ti",
        "colab_type": "text"
      },
      "source": [
        "### Resulting Portfolio and Yield"
      ]
    },
    {
      "cell_type": "code",
      "metadata": {
        "id": "auXJay0fq8Tk",
        "colab_type": "code",
        "colab": {}
      },
      "source": [
        "selected_stocks = selected_stocks[selected_stocks['Code'].isin(portfolio)]\n",
        "selected_stocks['Weight'] = portfoliovalues"
      ],
      "execution_count": 0,
      "outputs": []
    },
    {
      "cell_type": "code",
      "metadata": {
        "id": "bOv-ML0Mq8Tp",
        "colab_type": "code",
        "colab": {},
        "outputId": "16d2a049-51a2-47a5-a785-ce833de98139"
      },
      "source": [
        "selected_stocks"
      ],
      "execution_count": 0,
      "outputs": [
        {
          "output_type": "execute_result",
          "data": {
            "text/html": [
              "<div>\n",
              "<style scoped>\n",
              "    .dataframe tbody tr th:only-of-type {\n",
              "        vertical-align: middle;\n",
              "    }\n",
              "\n",
              "    .dataframe tbody tr th {\n",
              "        vertical-align: top;\n",
              "    }\n",
              "\n",
              "    .dataframe thead th {\n",
              "        text-align: right;\n",
              "    }\n",
              "</style>\n",
              "<table border=\"1\" class=\"dataframe\">\n",
              "  <thead>\n",
              "    <tr style=\"text-align: right;\">\n",
              "      <th></th>\n",
              "      <th>Date of Data</th>\n",
              "      <th>Code</th>\n",
              "      <th>Company Name</th>\n",
              "      <th>Nikkei Industrial Classification</th>\n",
              "      <th>Weight</th>\n",
              "      <th>Dividend</th>\n",
              "    </tr>\n",
              "  </thead>\n",
              "  <tbody>\n",
              "    <tr>\n",
              "      <th>26</th>\n",
              "      <td>2018/11/30</td>\n",
              "      <td>7751</td>\n",
              "      <td>CANON INC.</td>\n",
              "      <td>Electric Machinery</td>\n",
              "      <td>0.04</td>\n",
              "      <td>4.31</td>\n",
              "    </tr>\n",
              "    <tr>\n",
              "      <th>30</th>\n",
              "      <td>2018/11/30</td>\n",
              "      <td>8035</td>\n",
              "      <td>TOKYO ELECTRON LTD.</td>\n",
              "      <td>Electric Machinery</td>\n",
              "      <td>0.37</td>\n",
              "      <td>4.03</td>\n",
              "    </tr>\n",
              "    <tr>\n",
              "      <th>31</th>\n",
              "      <td>2018/11/30</td>\n",
              "      <td>8053</td>\n",
              "      <td>SUMITOMO CORP.</td>\n",
              "      <td>Trading Companies</td>\n",
              "      <td>0.24</td>\n",
              "      <td>4.10</td>\n",
              "    </tr>\n",
              "    <tr>\n",
              "      <th>42</th>\n",
              "      <td>2018/11/30</td>\n",
              "      <td>8628</td>\n",
              "      <td>MATSUI SECURITIES CO., LTD.</td>\n",
              "      <td>Securities</td>\n",
              "      <td>0.19</td>\n",
              "      <td>8.26</td>\n",
              "    </tr>\n",
              "    <tr>\n",
              "      <th>48</th>\n",
              "      <td>2018/11/30</td>\n",
              "      <td>9437</td>\n",
              "      <td>NTT DOCOMO, INC.</td>\n",
              "      <td>Communications</td>\n",
              "      <td>0.15</td>\n",
              "      <td>3.90</td>\n",
              "    </tr>\n",
              "  </tbody>\n",
              "</table>\n",
              "</div>"
            ],
            "text/plain": [
              "   Date of Data  Code                 Company Name  \\\n",
              "26   2018/11/30  7751                   CANON INC.   \n",
              "30   2018/11/30  8035          TOKYO ELECTRON LTD.   \n",
              "31   2018/11/30  8053               SUMITOMO CORP.   \n",
              "42   2018/11/30  8628  MATSUI SECURITIES CO., LTD.   \n",
              "48   2018/11/30  9437             NTT DOCOMO, INC.   \n",
              "\n",
              "   Nikkei Industrial Classification  Weight  Dividend  \n",
              "26               Electric Machinery    0.04      4.31  \n",
              "30               Electric Machinery    0.37      4.03  \n",
              "31                Trading Companies    0.24      4.10  \n",
              "42                       Securities    0.19      8.26  \n",
              "48                   Communications    0.15      3.90  "
            ]
          },
          "metadata": {
            "tags": []
          },
          "execution_count": 18
        }
      ]
    },
    {
      "cell_type": "code",
      "metadata": {
        "id": "pX1Plwpiq8Tu",
        "colab_type": "code",
        "colab": {},
        "outputId": "7ce28cde-0aeb-48e1-a08d-05abc0f43c27"
      },
      "source": [
        " Div_Yield = np.average(selected_stocks['Dividend'], weights=selected_stocks['Weight'])\n",
        "round(Div_Yield, 2)"
      ],
      "execution_count": 0,
      "outputs": [
        {
          "output_type": "execute_result",
          "data": {
            "text/plain": [
              "4.85"
            ]
          },
          "metadata": {
            "tags": []
          },
          "execution_count": 19
        }
      ]
    },
    {
      "cell_type": "code",
      "metadata": {
        "id": "ggZwdX29q8T1",
        "colab_type": "code",
        "colab": {}
      },
      "source": [
        ""
      ],
      "execution_count": 0,
      "outputs": []
    },
    {
      "cell_type": "code",
      "metadata": {
        "id": "-hTE_jhVq8T9",
        "colab_type": "code",
        "colab": {}
      },
      "source": [
        ""
      ],
      "execution_count": 0,
      "outputs": []
    },
    {
      "cell_type": "code",
      "metadata": {
        "id": "DFcBPJsXq8UD",
        "colab_type": "code",
        "colab": {}
      },
      "source": [
        ""
      ],
      "execution_count": 0,
      "outputs": []
    }
  ]
}