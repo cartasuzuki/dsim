{
 "cells": [
  {
   "cell_type": "markdown",
   "metadata": {},
   "source": [
    "# Nikkei High Dividend Yield 50 Analysis with Portfolio Optimizer\n",
    "\n"
   ]
  },
  {
   "cell_type": "markdown",
   "metadata": {},
   "source": [
    "## Initialization"
   ]
  },
  {
   "cell_type": "markdown",
   "metadata": {},
   "source": [
    "If you are using CoLab, first install the dependency PyPortfolioOpt"
   ]
  },
  {
   "cell_type": "code",
   "execution_count": null,
   "metadata": {},
   "outputs": [],
   "source": [
    "!pip install git+https://github.com/robertmartin8/PyPortfolioOpt.git"
   ]
  },
  {
   "cell_type": "markdown",
   "metadata": {},
   "source": [
    "Then get our PortfolioOptimizer library and the necessary datasets from our repository"
   ]
  },
  {
   "cell_type": "code",
   "execution_count": 1,
   "metadata": {
    "collapsed": true
   },
   "outputs": [
    {
     "name": "stdout",
     "output_type": "stream",
     "text": [
      "--2019-02-09 16:41:21--  https://github.com/cartasuzuki/phynance/blob/master/datasets/nikkei_high_dividend_yield_50_prices.csv\n",
      "Resolving github.com (github.com)... 192.30.255.112, 192.30.255.113\n",
      "Connecting to github.com (github.com)|192.30.255.112|:443... connected.\n",
      "HTTP request sent, awaiting response... 200 OK\n",
      "Length: unspecified [text/html]\n",
      "Saving to: ‘nikkei_high_dividend_yield_50_prices.csv.11’\n",
      "\n",
      "nikkei_high_dividen     [    <=>             ]   1.37M  1.78MB/s    in 0.8s    \n",
      "\n",
      "2019-02-09 16:41:24 (1.78 MB/s) - ‘nikkei_high_dividend_yield_50_prices.csv.11’ saved [1441041]\n",
      "\n",
      "--2019-02-09 16:41:24--  https://raw.githubusercontent.com/cartasuzuki/phynance/master/datasets/nikkei_high_dividend_yield_50_weight_en.csv\n",
      "Resolving raw.githubusercontent.com (raw.githubusercontent.com)... 151.101.88.133\n",
      "Connecting to raw.githubusercontent.com (raw.githubusercontent.com)|151.101.88.133|:443... connected.\n",
      "HTTP request sent, awaiting response... 200 OK\n",
      "Length: 3325 (3.2K) [text/plain]\n",
      "Saving to: ‘nikkei_high_dividend_yield_50_weight_en.csv.12’\n",
      "\n",
      "nikkei_high_dividen 100%[===================>]   3.25K  --.-KB/s    in 0s      \n",
      "\n",
      "2019-02-09 16:41:26 (84.5 MB/s) - ‘nikkei_high_dividend_yield_50_weight_en.csv.12’ saved [3325/3325]\n",
      "\n",
      "--2019-02-09 16:41:26--  https://raw.githubusercontent.com/cartasuzuki/phynance/master/PortfolioOptimizer.py\n",
      "Resolving raw.githubusercontent.com (raw.githubusercontent.com)... 151.101.88.133\n",
      "Connecting to raw.githubusercontent.com (raw.githubusercontent.com)|151.101.88.133|:443... connected.\n",
      "HTTP request sent, awaiting response... 200 OK\n",
      "Length: 2701 (2.6K) [text/plain]\n",
      "Saving to: ‘PortfolioOptimizer.py.22’\n",
      "\n",
      "PortfolioOptimizer. 100%[===================>]   2.64K  --.-KB/s    in 0s      \n",
      "\n",
      "2019-02-09 16:41:26 (69.3 MB/s) - ‘PortfolioOptimizer.py.22’ saved [2701/2701]\n",
      "\n"
     ]
    }
   ],
   "source": [
    "!wget https://github.com/cartasuzuki/phynance/blob/master/datasets/nikkei_high_dividend_yield_50_prices.csv\n",
    "!wget https://raw.githubusercontent.com/cartasuzuki/phynance/master/datasets/nikkei_high_dividend_yield_50_weight_en.csv\n",
    "!wget https://raw.githubusercontent.com/cartasuzuki/phynance/master/PortfolioOptimizer.py"
   ]
  },
  {
   "cell_type": "markdown",
   "metadata": {},
   "source": [
    "Import libraries"
   ]
  },
  {
   "cell_type": "code",
   "execution_count": 2,
   "metadata": {},
   "outputs": [],
   "source": [
    "import pandas as pd\n",
    "import matplotlib.pyplot as plt\n",
    "import numpy as np\n",
    "from PortfolioOptimizer import PortfolioOptimizer"
   ]
  },
  {
   "cell_type": "code",
   "execution_count": 3,
   "metadata": {},
   "outputs": [],
   "source": [
    "stock_symbols = pd.read_csv('nikkei_high_dividend_yield_50_weight_en.csv')"
   ]
  },
  {
   "cell_type": "code",
   "execution_count": null,
   "metadata": {},
   "outputs": [],
   "source": []
  },
  {
   "cell_type": "markdown",
   "metadata": {},
   "source": [
    "Once we have loaded our stock symbols dataset we can either use the prices in the csv file or download prices from alphadvantage to get updated data."
   ]
  },
  {
   "cell_type": "markdown",
   "metadata": {},
   "source": [
    "### Filter out some stocks from the index"
   ]
  },
  {
   "cell_type": "markdown",
   "metadata": {},
   "source": [
    "Chose a minimum div/yield. Set to 0 if you want to use all stocks in the index"
   ]
  },
  {
   "cell_type": "code",
   "execution_count": 4,
   "metadata": {},
   "outputs": [],
   "source": [
    "min_yield = 3.7"
   ]
  },
  {
   "cell_type": "code",
   "execution_count": 5,
   "metadata": {},
   "outputs": [],
   "source": [
    "selected_stocks = stock_symbols[stock_symbols['Dividend']>min_yield]"
   ]
  },
  {
   "cell_type": "markdown",
   "metadata": {},
   "source": [
    "Create a filter string (highDivString) to be used later to filter stocks with lower yield than min_yield"
   ]
  },
  {
   "cell_type": "code",
   "execution_count": 6,
   "metadata": {},
   "outputs": [],
   "source": [
    "highDivString = selected_stocks['Code'].values.astype(int)\n",
    "highDivString = highDivString.astype(str)\n",
    "string = '.TOK'\n",
    "highDivString = [x + string for x in highDivString]"
   ]
  },
  {
   "cell_type": "code",
   "execution_count": null,
   "metadata": {},
   "outputs": [],
   "source": []
  },
  {
   "cell_type": "markdown",
   "metadata": {},
   "source": [
    "### Method 1: use csv file"
   ]
  },
  {
   "cell_type": "markdown",
   "metadata": {},
   "source": [
    "Read the stock prices from the csv provided in our repository"
   ]
  },
  {
   "cell_type": "code",
   "execution_count": 7,
   "metadata": {},
   "outputs": [],
   "source": [
    "stocks = pd.read_csv('nikkei_high_dividend_yield_50_prices.csv', index_col= ['timestamp'], parse_dates= ['timestamp'])"
   ]
  },
  {
   "cell_type": "markdown",
   "metadata": {},
   "source": [
    "If you want higher yield filter out using the filter previously created"
   ]
  },
  {
   "cell_type": "code",
   "execution_count": 8,
   "metadata": {},
   "outputs": [],
   "source": [
    "stocks = stocks[highDivString]"
   ]
  },
  {
   "cell_type": "markdown",
   "metadata": {},
   "source": [
    "### Method 2: Get prices from alphadvantage"
   ]
  },
  {
   "cell_type": "markdown",
   "metadata": {},
   "source": [
    "Using the highDivString filter, download prices from alpadvantage"
   ]
  },
  {
   "cell_type": "code",
   "execution_count": null,
   "metadata": {},
   "outputs": [],
   "source": [
    "stocks = PortfolioOptimizer.get_stock_prices(highDivString)  "
   ]
  },
  {
   "cell_type": "markdown",
   "metadata": {},
   "source": [
    "## Remove some stocks to improve sectore coverage"
   ]
  },
  {
   "cell_type": "code",
   "execution_count": 10,
   "metadata": {},
   "outputs": [],
   "source": [
    "droplist = ['8002.TOK']\n",
    "stocks = stocks.drop(droplist, axis = 1)"
   ]
  },
  {
   "cell_type": "markdown",
   "metadata": {},
   "source": [
    "## Portfolio Optimization"
   ]
  },
  {
   "cell_type": "code",
   "execution_count": 11,
   "metadata": {},
   "outputs": [],
   "source": [
    "weights, sharpe, ret = PortfolioOptimizer.optimize_portfolio(stocks,0)"
   ]
  },
  {
   "cell_type": "code",
   "execution_count": 12,
   "metadata": {},
   "outputs": [
    {
     "name": "stdout",
     "output_type": "stream",
     "text": [
      "2768.TOK: 22.0%\n",
      "8035.TOK: 28.000000000000004%\n",
      "8053.TOK: 12.0%\n",
      "8058.TOK: 19.0%\n",
      "8628.TOK: 10.0%\n",
      "9437.TOK: 8.0%\n",
      "Sharpe: 0.45\n",
      "Exp. Return: 11.54\n"
     ]
    },
    {
     "data": {
      "image/png": "[encoded data removed]",
      "text/plain": [
       "<matplotlib.figure.Figure at 0x7f45e985def0>"
      ]
     },
     "metadata": {},
     "output_type": "display_data"
    }
   ],
   "source": [
    "PortfolioOptimizer.print_portfolio_result(weights, sharpe, ret)\n",
    "PortfolioOptimizer.portfolioAsPieChart(weights)"
   ]
  },
  {
   "cell_type": "markdown",
   "metadata": {},
   "source": [
    "Average yield"
   ]
  },
  {
   "cell_type": "code",
   "execution_count": null,
   "metadata": {},
   "outputs": [],
   "source": [
    "selected_stocks['Dividend'].mean()"
   ]
  },
  {
   "cell_type": "markdown",
   "metadata": {},
   "source": [
    "Remove 0s and TOK string."
   ]
  },
  {
   "cell_type": "code",
   "execution_count": 13,
   "metadata": {},
   "outputs": [],
   "source": [
    "www ={x:y for x,y in weights.items() if y>0.001}\n",
    "portfolio =list(www.keys())\n",
    "portfoliovalues = list(www.values())\n",
    "portfolio = [s.replace('.TOK','') for s in portfolio]"
   ]
  },
  {
   "cell_type": "markdown",
   "metadata": {},
   "source": [
    "### Resulting Portfolio"
   ]
  },
  {
   "cell_type": "code",
   "execution_count": 14,
   "metadata": {},
   "outputs": [],
   "source": [
    "selected_stocks = selected_stocks[selected_stocks['Code'].isin(portfolio)]\n",
    "selected_stocks['Weight'] = portfoliovalues"
   ]
  },
  {
   "cell_type": "code",
   "execution_count": 15,
   "metadata": {},
   "outputs": [
    {
     "data": {
      "text/html": [
       "<div>\n",
       "<style scoped>\n",
       "    .dataframe tbody tr th:only-of-type {\n",
       "        vertical-align: middle;\n",
       "    }\n",
       "\n",
       "    .dataframe tbody tr th {\n",
       "        vertical-align: top;\n",
       "    }\n",
       "\n",
       "    .dataframe thead th {\n",
       "        text-align: right;\n",
       "    }\n",
       "</style>\n",
       "<table border=\"1\" class=\"dataframe\">\n",
       "  <thead>\n",
       "    <tr style=\"text-align: right;\">\n",
       "      <th></th>\n",
       "      <th>Date of Data</th>\n",
       "      <th>Code</th>\n",
       "      <th>Company Name</th>\n",
       "      <th>Nikkei Industrial Classification</th>\n",
       "      <th>Weight</th>\n",
       "      <th>Dividend</th>\n",
       "    </tr>\n",
       "  </thead>\n",
       "  <tbody>\n",
       "    <tr>\n",
       "      <th>1</th>\n",
       "      <td>2018/11/30</td>\n",
       "      <td>2768</td>\n",
       "      <td>SOJITZ CORP.</td>\n",
       "      <td>Trading Companies</td>\n",
       "      <td>0.22</td>\n",
       "      <td>3.87</td>\n",
       "    </tr>\n",
       "    <tr>\n",
       "      <th>30</th>\n",
       "      <td>2018/11/30</td>\n",
       "      <td>8035</td>\n",
       "      <td>TOKYO ELECTRON LTD.</td>\n",
       "      <td>Electric Machinery</td>\n",
       "      <td>0.28</td>\n",
       "      <td>4.03</td>\n",
       "    </tr>\n",
       "    <tr>\n",
       "      <th>31</th>\n",
       "      <td>2018/11/30</td>\n",
       "      <td>8053</td>\n",
       "      <td>SUMITOMO CORP.</td>\n",
       "      <td>Trading Companies</td>\n",
       "      <td>0.12</td>\n",
       "      <td>4.10</td>\n",
       "    </tr>\n",
       "    <tr>\n",
       "      <th>32</th>\n",
       "      <td>2018/11/30</td>\n",
       "      <td>8058</td>\n",
       "      <td>MITSUBISHI CORP.</td>\n",
       "      <td>Trading Companies</td>\n",
       "      <td>0.19</td>\n",
       "      <td>3.79</td>\n",
       "    </tr>\n",
       "    <tr>\n",
       "      <th>42</th>\n",
       "      <td>2018/11/30</td>\n",
       "      <td>8628</td>\n",
       "      <td>MATSUI SECURITIES CO., LTD.</td>\n",
       "      <td>Securities</td>\n",
       "      <td>0.10</td>\n",
       "      <td>8.26</td>\n",
       "    </tr>\n",
       "    <tr>\n",
       "      <th>48</th>\n",
       "      <td>2018/11/30</td>\n",
       "      <td>9437</td>\n",
       "      <td>NTT DOCOMO, INC.</td>\n",
       "      <td>Communications</td>\n",
       "      <td>0.08</td>\n",
       "      <td>3.90</td>\n",
       "    </tr>\n",
       "  </tbody>\n",
       "</table>\n",
       "</div>"
      ],
      "text/plain": [
       "   Date of Data  Code                 Company Name  \\\n",
       "1    2018/11/30  2768                 SOJITZ CORP.   \n",
       "30   2018/11/30  8035          TOKYO ELECTRON LTD.   \n",
       "31   2018/11/30  8053               SUMITOMO CORP.   \n",
       "32   2018/11/30  8058             MITSUBISHI CORP.   \n",
       "42   2018/11/30  8628  MATSUI SECURITIES CO., LTD.   \n",
       "48   2018/11/30  9437             NTT DOCOMO, INC.   \n",
       "\n",
       "   Nikkei Industrial Classification  Weight  Dividend  \n",
       "1                 Trading Companies    0.22      3.87  \n",
       "30               Electric Machinery    0.28      4.03  \n",
       "31                Trading Companies    0.12      4.10  \n",
       "32                Trading Companies    0.19      3.79  \n",
       "42                       Securities    0.10      8.26  \n",
       "48                   Communications    0.08      3.90  "
      ]
     },
     "execution_count": 15,
     "metadata": {},
     "output_type": "execute_result"
    }
   ],
   "source": [
    "selected_stocks"
   ]
  },
  {
   "cell_type": "code",
   "execution_count": 16,
   "metadata": {},
   "outputs": [
    {
     "data": {
      "text/plain": [
       "4.37"
      ]
     },
     "execution_count": 16,
     "metadata": {},
     "output_type": "execute_result"
    }
   ],
   "source": [
    " Div_Yield = np.average(selected_stocks['Dividend'], weights=selected_stocks['Weight'])\n",
    "round(Div_Yield, 2)"
   ]
  },
  {
   "cell_type": "code",
   "execution_count": 17,
   "metadata": {},
   "outputs": [
    {
     "data": {
      "text/plain": [
       "{'1928.TOK': 0.0,\n",
       " '2768.TOK': 0.22,\n",
       " '2914.TOK': 0.0,\n",
       " '4502.TOK': 0.0,\n",
       " '6178.TOK': 0.0,\n",
       " '6703.TOK': 0.0,\n",
       " '7201.TOK': 0.0,\n",
       " '7270.TOK': 0.0,\n",
       " '7751.TOK': 0.0,\n",
       " '8035.TOK': 0.28,\n",
       " '8053.TOK': 0.12,\n",
       " '8058.TOK': 0.19,\n",
       " '8304.TOK': 0.0,\n",
       " '8316.TOK': 0.0,\n",
       " '8411.TOK': 0.0,\n",
       " '8601.TOK': 0.0,\n",
       " '8604.TOK': 0.0,\n",
       " '8628.TOK': 0.1,\n",
       " '8725.TOK': 0.0,\n",
       " '9437.TOK': 0.08}"
      ]
     },
     "execution_count": 17,
     "metadata": {},
     "output_type": "execute_result"
    }
   ],
   "source": [
    "weights"
   ]
  },
  {
   "cell_type": "code",
   "execution_count": null,
   "metadata": {},
   "outputs": [],
   "source": []
  },
  {
   "cell_type": "code",
   "execution_count": null,
   "metadata": {},
   "outputs": [],
   "source": []
  }
 ],
 "metadata": {
  "kernelspec": {
   "display_name": "Python 3",
   "language": "python",
   "name": "python3"
  },
  "language_info": {
   "codemirror_mode": {
    "name": "ipython",
    "version": 3
   },
   "file_extension": ".py",
   "mimetype": "text/x-python",
   "name": "python",
   "nbconvert_exporter": "python",
   "pygments_lexer": "ipython3",
   "version": "3.6.4"
  }
 },
 "nbformat": 4,
 "nbformat_minor": 2
}
