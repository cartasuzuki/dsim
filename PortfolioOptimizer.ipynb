{
 "cells": [
  {
   "cell_type": "markdown",
   "metadata": {},
   "source": [
    "# Portfolio Optimizer"
   ]
  },
  {
   "cell_type": "markdown",
   "metadata": {},
   "source": [
    "This tool take as input a list of securities which the investor has selected and, by calculating the best possible Sharpe Ratio, returns the optimal allocation.\n",
    "\n",
    "The program consists of the following parts.\n",
    "\n",
    "1. Load the security list\n",
    "2. Download historical prices\n",
    "3. Optimize the portfolio based on the optimum Sharpe ratio\n",
    "4. Print and graph result"
   ]
  },
  {
   "cell_type": "markdown",
   "metadata": {},
   "source": [
    "### First part"
   ]
  },
  {
   "cell_type": "markdown",
   "metadata": {},
   "source": [
    "Start by importing the needed libraries"
   ]
  },
  {
   "cell_type": "code",
   "execution_count": 1,
   "metadata": {},
   "outputs": [],
   "source": [
    "import pandas as pd\n",
    "import matplotlib.pyplot as plt\n",
    "from PortfolioOptimizer import PortfolioOptimizer"
   ]
  },
  {
   "cell_type": "markdown",
   "metadata": {},
   "source": [
    "Write the securities symbols in the call below.\n",
    "(Note that the security code must be specified accoring to alphadvantage format"
   ]
  },
  {
   "cell_type": "code",
   "execution_count": 2,
   "metadata": {},
   "outputs": [],
   "source": [
    "stock_symbols = ['vclt','psp','vgk','pff', 'qyld','vnq','vt','psec']"
   ]
  },
  {
   "cell_type": "markdown",
   "metadata": {},
   "source": [
    "Alternatively import your list of securities from csv"
   ]
  },
  {
   "cell_type": "code",
   "execution_count": null,
   "metadata": {},
   "outputs": [],
   "source": [
    "## to do: stock_symbols = pd.read_csv()"
   ]
  },
  {
   "cell_type": "markdown",
   "metadata": {},
   "source": [
    "### Download Historical Prices from Alphadvantage.io"
   ]
  },
  {
   "cell_type": "code",
   "execution_count": 3,
   "metadata": {
    "collapsed": true
   },
   "outputs": [
    {
     "name": "stdout",
     "output_type": "stream",
     "text": [
      "Downloading prices from alphavantage.co\n",
      "vclt\n",
      "psp\n",
      "vgk\n",
      "pff\n",
      "qyld\n",
      "sleeping\n",
      "vnq\n",
      "vt\n",
      "psec\n"
     ]
    }
   ],
   "source": [
    "stocks = PortfolioOptimizer.get_stock_prices(stock_symbols);"
   ]
  },
  {
   "cell_type": "markdown",
   "metadata": {},
   "source": [
    "### Optimize Portfolio by finding the max Sharpe Ratio "
   ]
  },
  {
   "cell_type": "code",
   "execution_count": 4,
   "metadata": {},
   "outputs": [],
   "source": [
    "weights, sharpe, ret = PortfolioOptimizer.optimize_portfolio(stocks,0)"
   ]
  },
  {
   "cell_type": "markdown",
   "metadata": {},
   "source": [
    "### Print Results"
   ]
  },
  {
   "cell_type": "code",
   "execution_count": 5,
   "metadata": {},
   "outputs": [
    {
     "name": "stdout",
     "output_type": "stream",
     "text": [
      "vclt: 31.0%\n",
      "pff: 28.999999999999996%\n",
      "qyld: 20.0%\n",
      "vnq: 15.0%\n",
      "vt: 6.0%\n",
      "Sharpe: 0.49\n",
      "Exp. Return: 5.02\n"
     ]
    },
    {
     "data": {
      "image/png": "[encoded data removed]",
      "text/plain": [
       "<matplotlib.figure.Figure at 0x7f8f6ac95668>"
      ]
     },
     "metadata": {},
     "output_type": "display_data"
    }
   ],
   "source": [
    "PortfolioOptimizer.print_portfolio_result(weights, sharpe, ret)\n",
    "PortfolioOptimizer.portfolioAsPieChart(weights)"
   ]
  },
  {
   "cell_type": "code",
   "execution_count": null,
   "metadata": {},
   "outputs": [],
   "source": []
  }
 ],
 "metadata": {
  "kernelspec": {
   "display_name": "Python 3",
   "language": "python",
   "name": "python3"
  },
  "language_info": {
   "codemirror_mode": {
    "name": "ipython",
    "version": 3
   },
   "file_extension": ".py",
   "mimetype": "text/x-python",
   "name": "python",
   "nbconvert_exporter": "python",
   "pygments_lexer": "ipython3",
   "version": "3.6.4"
  }
 },
 "nbformat": 4,
 "nbformat_minor": 2
}
