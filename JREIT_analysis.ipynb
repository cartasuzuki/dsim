{
 "cells": [
  {
   "cell_type": "markdown",
   "metadata": {},
   "source": [
    "# Nikkei High Dividend Yield 50 Analysis with Portfolio Optimizer\n",
    "\n"
   ]
  },
  {
   "cell_type": "markdown",
   "metadata": {},
   "source": [
    "## Initialization"
   ]
  },
  {
   "cell_type": "markdown",
   "metadata": {},
   "source": [
    "If you are using CoLab, first install the dependency PyPortfolioOpt"
   ]
  },
  {
   "cell_type": "code",
   "execution_count": null,
   "metadata": {},
   "outputs": [],
   "source": [
    "!pip install git+https://github.com/robertmartin8/PyPortfolioOpt.git"
   ]
  },
  {
   "cell_type": "markdown",
   "metadata": {},
   "source": [
    "Then get our PortfolioOptimizer library and the necessary datasets from our repository"
   ]
  },
  {
   "cell_type": "code",
   "execution_count": 1,
   "metadata": {
    "collapsed": true
   },
   "outputs": [
    {
     "name": "stdout",
     "output_type": "stream",
     "text": [
      "--2019-02-23 06:28:22--  https://raw.githubusercontent.com/cartasuzuki/phynance/master/datasets/Japan_REITS_list.csv\n",
      "Resolving raw.githubusercontent.com (raw.githubusercontent.com)... 151.101.72.133\n",
      "Connecting to raw.githubusercontent.com (raw.githubusercontent.com)|151.101.72.133|:443... connected.\n",
      "HTTP request sent, awaiting response... 200 OK\n",
      "Length: 803 [text/plain]\n",
      "Saving to: ‘Japan_REITS_list.csv.3’\n",
      "\n",
      "Japan_REITS_list.cs 100%[===================>]     803  --.-KB/s    in 0s      \n",
      "\n",
      "2019-02-23 06:28:22 (214 MB/s) - ‘Japan_REITS_list.csv.3’ saved [803/803]\n",
      "\n",
      "--2019-02-23 06:28:22--  https://raw.githubusercontent.com/cartasuzuki/phynance/master/datasets/JREIT_prices.csv\n",
      "Resolving raw.githubusercontent.com (raw.githubusercontent.com)... 151.101.72.133\n",
      "Connecting to raw.githubusercontent.com (raw.githubusercontent.com)|151.101.72.133|:443... connected.\n",
      "HTTP request sent, awaiting response... 200 OK\n",
      "Length: 101196 (99K) [text/plain]\n",
      "Saving to: ‘JREIT_prices.csv.2’\n",
      "\n",
      "JREIT_prices.csv.2  100%[===================>]  98.82K  --.-KB/s    in 0.01s   \n",
      "\n",
      "2019-02-23 06:28:23 (8.19 MB/s) - ‘JREIT_prices.csv.2’ saved [101196/101196]\n",
      "\n",
      "--2019-02-23 06:28:23--  https://raw.githubusercontent.com/cartasuzuki/phynance/master/PortfolioOptimizer.py\n",
      "Resolving raw.githubusercontent.com (raw.githubusercontent.com)... 151.101.72.133\n",
      "Connecting to raw.githubusercontent.com (raw.githubusercontent.com)|151.101.72.133|:443... connected.\n",
      "HTTP request sent, awaiting response... 200 OK\n",
      "Length: 2701 (2.6K) [text/plain]\n",
      "Saving to: ‘PortfolioOptimizer.py.17’\n",
      "\n",
      "PortfolioOptimizer. 100%[===================>]   2.64K  --.-KB/s    in 0s      \n",
      "\n",
      "2019-02-23 06:28:23 (33.7 MB/s) - ‘PortfolioOptimizer.py.17’ saved [2701/2701]\n",
      "\n"
     ]
    }
   ],
   "source": [
    "!wget https://raw.githubusercontent.com/cartasuzuki/phynance/master/datasets/Japan_REITS_list.csv\n",
    "!wget https://raw.githubusercontent.com/cartasuzuki/phynance/master/datasets/JREIT_prices.csv    \n",
    "!wget https://raw.githubusercontent.com/cartasuzuki/phynance/master/PortfolioOptimizer.py"
   ]
  },
  {
   "cell_type": "markdown",
   "metadata": {},
   "source": [
    "Import libraries"
   ]
  },
  {
   "cell_type": "code",
   "execution_count": 2,
   "metadata": {},
   "outputs": [],
   "source": [
    "import pandas as pd\n",
    "import matplotlib.pyplot as plt\n",
    "import numpy as np\n",
    "from PortfolioOptimizer import PortfolioOptimizer"
   ]
  },
  {
   "cell_type": "code",
   "execution_count": 3,
   "metadata": {},
   "outputs": [],
   "source": [
    "stock_symbols = pd.read_csv('Japan_REITS_list.csv')"
   ]
  },
  {
   "cell_type": "markdown",
   "metadata": {},
   "source": [
    "Once we have loaded our stock symbols dataset we can either use the prices in the csv file or download prices from alphadvantage to get updated data."
   ]
  },
  {
   "cell_type": "markdown",
   "metadata": {},
   "source": [
    "### Filter out some stocks from the index"
   ]
  },
  {
   "cell_type": "markdown",
   "metadata": {},
   "source": [
    "Chose a minimum div/yield. Set to 0 if you want to use all stocks in the index"
   ]
  },
  {
   "cell_type": "code",
   "execution_count": 4,
   "metadata": {},
   "outputs": [],
   "source": [
    "min_yield = 0"
   ]
  },
  {
   "cell_type": "code",
   "execution_count": 5,
   "metadata": {},
   "outputs": [],
   "source": [
    "selected_stocks = stock_symbols[stock_symbols['Dividend']>min_yield]"
   ]
  },
  {
   "cell_type": "markdown",
   "metadata": {},
   "source": [
    "Create a filter string (highDivString) to be used later to filter stocks with lower yield than min_yield"
   ]
  },
  {
   "cell_type": "code",
   "execution_count": 6,
   "metadata": {},
   "outputs": [],
   "source": [
    "highDivString = selected_stocks['Code'].values.astype(int)\n",
    "highDivString = highDivString.astype(str)\n",
    "string = '.TOK'\n",
    "highDivString = [x + string for x in highDivString]"
   ]
  },
  {
   "cell_type": "markdown",
   "metadata": {},
   "source": [
    "### Method 1: use csv file"
   ]
  },
  {
   "cell_type": "markdown",
   "metadata": {},
   "source": [
    "Read the stock prices from the csv provided in our repository"
   ]
  },
  {
   "cell_type": "code",
   "execution_count": 7,
   "metadata": {},
   "outputs": [],
   "source": [
    "stocks = pd.read_csv('JREIT_prices.csv', index_col= ['timestamp'], parse_dates= ['timestamp'])"
   ]
  },
  {
   "cell_type": "markdown",
   "metadata": {},
   "source": [
    "If you want higher yield filter out using the filter previously created"
   ]
  },
  {
   "cell_type": "code",
   "execution_count": 8,
   "metadata": {},
   "outputs": [],
   "source": [
    "stocks = stocks[highDivString]"
   ]
  },
  {
   "cell_type": "markdown",
   "metadata": {},
   "source": [
    "### Method 2: Get prices from alphadvantage"
   ]
  },
  {
   "cell_type": "markdown",
   "metadata": {},
   "source": [
    "Using the highDivString filter, download prices from alpadvantage"
   ]
  },
  {
   "cell_type": "code",
   "execution_count": 13,
   "metadata": {},
   "outputs": [
    {
     "name": "stdout",
     "output_type": "stream",
     "text": [
      "Downloading prices from alphavantage.co\n",
      "8953.TOK\n",
      "3283.TOK\n",
      "8960.TOK\n",
      "8985.TOK\n",
      "3281.TOK\n",
      "sleeping\n",
      "8963.TOK\n",
      "3462.TOK\n",
      "3292.TOK\n",
      "3309.TOK\n",
      "sleeping\n",
      "8964.TOK\n",
      "8961.TOK\n",
      "3296.TOK\n",
      "3473.TOK\n",
      "sleeping\n",
      "8898.TOK\n"
     ]
    }
   ],
   "source": [
    "stocks = PortfolioOptimizer.get_stock_prices(highDivString)  "
   ]
  },
  {
   "cell_type": "code",
   "execution_count": 17,
   "metadata": {},
   "outputs": [],
   "source": [
    "stocks.to_csv('JREIT_prices.csv')"
   ]
  },
  {
   "cell_type": "markdown",
   "metadata": {},
   "source": [
    "## Portfolio Optimization"
   ]
  },
  {
   "cell_type": "code",
   "execution_count": 9,
   "metadata": {},
   "outputs": [],
   "source": [
    "weights, sharpe, ret = PortfolioOptimizer.optimize_portfolio(stocks,0)"
   ]
  },
  {
   "cell_type": "code",
   "execution_count": 14,
   "metadata": {},
   "outputs": [
    {
     "name": "stdout",
     "output_type": "stream",
     "text": [
      "3292.TOK: 8.0%\n",
      "3309.TOK: 10.0%\n",
      "3296.TOK: 54.0%\n",
      "3473.TOK: 28.000000000000004%\n",
      "Sharpe: 1.34\n",
      "Exp. Return: 15.63\n"
     ]
    },
    {
     "data": {
      "image/png": "[encoded data removed]",
      "text/plain": [
       "<matplotlib.figure.Figure at 0x7f90a6fd6860>"
      ]
     },
     "metadata": {},
     "output_type": "display_data"
    }
   ],
   "source": [
    "PortfolioOptimizer.print_portfolio_result(weights, sharpe, ret)\n",
    "PortfolioOptimizer.portfolioAsPieChart(weights)"
   ]
  },
  {
   "cell_type": "code",
   "execution_count": null,
   "metadata": {},
   "outputs": [],
   "source": []
  },
  {
   "cell_type": "markdown",
   "metadata": {},
   "source": [
    "Remove 0s and TOK string."
   ]
  },
  {
   "cell_type": "code",
   "execution_count": 48,
   "metadata": {},
   "outputs": [],
   "source": [
    "www ={x:y for x,y in weights.items() if y>0.001}\n",
    "portfolio =list(www.keys())\n",
    "portfoliovalues = list(www.values())\n",
    "portfolio = [s.replace('.TOK','') for s in portfolio]"
   ]
  },
  {
   "cell_type": "markdown",
   "metadata": {},
   "source": [
    "### Resulting Portfolio"
   ]
  },
  {
   "cell_type": "code",
   "execution_count": 49,
   "metadata": {},
   "outputs": [],
   "source": [
    "selected_stocks = selected_stocks[selected_stocks['Code'].isin(portfolio)]\n",
    "selected_stocks['Weight'] = portfoliovalues"
   ]
  },
  {
   "cell_type": "code",
   "execution_count": 50,
   "metadata": {},
   "outputs": [
    {
     "data": {
      "text/html": [
       "<div>\n",
       "<style scoped>\n",
       "    .dataframe tbody tr th:only-of-type {\n",
       "        vertical-align: middle;\n",
       "    }\n",
       "\n",
       "    .dataframe tbody tr th {\n",
       "        vertical-align: top;\n",
       "    }\n",
       "\n",
       "    .dataframe thead th {\n",
       "        text-align: right;\n",
       "    }\n",
       "</style>\n",
       "<table border=\"1\" class=\"dataframe\">\n",
       "  <thead>\n",
       "    <tr style=\"text-align: right;\">\n",
       "      <th></th>\n",
       "      <th>Date of Data</th>\n",
       "      <th>Code</th>\n",
       "      <th>Company Name</th>\n",
       "      <th>Nikkei Industrial Classification</th>\n",
       "      <th>Weight</th>\n",
       "      <th>Dividend</th>\n",
       "    </tr>\n",
       "  </thead>\n",
       "  <tbody>\n",
       "    <tr>\n",
       "      <th>7</th>\n",
       "      <td>2018/11/30</td>\n",
       "      <td>3292</td>\n",
       "      <td>AEON REIT Investment Corp</td>\n",
       "      <td>REIT</td>\n",
       "      <td>0.08</td>\n",
       "      <td>4.69</td>\n",
       "    </tr>\n",
       "    <tr>\n",
       "      <th>8</th>\n",
       "      <td>2018/11/30</td>\n",
       "      <td>3309</td>\n",
       "      <td>Sekisui House Reit Inc</td>\n",
       "      <td>REIT</td>\n",
       "      <td>0.10</td>\n",
       "      <td>4.11</td>\n",
       "    </tr>\n",
       "    <tr>\n",
       "      <th>11</th>\n",
       "      <td>2018/11/30</td>\n",
       "      <td>3296</td>\n",
       "      <td>Japan REIT</td>\n",
       "      <td>REIT</td>\n",
       "      <td>0.54</td>\n",
       "      <td>5.00</td>\n",
       "    </tr>\n",
       "    <tr>\n",
       "      <th>12</th>\n",
       "      <td>2018/11/30</td>\n",
       "      <td>3473</td>\n",
       "      <td>Sakura REIT</td>\n",
       "      <td>REIT</td>\n",
       "      <td>0.28</td>\n",
       "      <td>7.00</td>\n",
       "    </tr>\n",
       "    <tr>\n",
       "      <th>13</th>\n",
       "      <td>2018/11/30</td>\n",
       "      <td>8898</td>\n",
       "      <td>Century 21</td>\n",
       "      <td>REIT</td>\n",
       "      <td>0.01</td>\n",
       "      <td>4.00</td>\n",
       "    </tr>\n",
       "  </tbody>\n",
       "</table>\n",
       "</div>"
      ],
      "text/plain": [
       "   Date of Data  Code               Company Name  \\\n",
       "7    2018/11/30  3292  AEON REIT Investment Corp   \n",
       "8    2018/11/30  3309     Sekisui House Reit Inc   \n",
       "11   2018/11/30  3296                 Japan REIT   \n",
       "12   2018/11/30  3473                Sakura REIT   \n",
       "13   2018/11/30  8898                 Century 21   \n",
       "\n",
       "   Nikkei Industrial Classification  Weight  Dividend  \n",
       "7                              REIT    0.08      4.69  \n",
       "8                              REIT    0.10      4.11  \n",
       "11                             REIT    0.54      5.00  \n",
       "12                             REIT    0.28      7.00  \n",
       "13                             REIT    0.01      4.00  "
      ]
     },
     "execution_count": 50,
     "metadata": {},
     "output_type": "execute_result"
    }
   ],
   "source": [
    " selected_stocks"
   ]
  },
  {
   "cell_type": "code",
   "execution_count": 58,
   "metadata": {},
   "outputs": [
    {
     "data": {
      "text/plain": [
       "5.43"
      ]
     },
     "execution_count": 58,
     "metadata": {},
     "output_type": "execute_result"
    }
   ],
   "source": [
    "Div_Yield = np.average(selected_stocks['Dividend'], weights=selected_stocks['Weight'])\n",
    "round(Div_Yield, 2)"
   ]
  },
  {
   "cell_type": "code",
   "execution_count": null,
   "metadata": {},
   "outputs": [],
   "source": []
  },
  {
   "cell_type": "code",
   "execution_count": null,
   "metadata": {},
   "outputs": [],
   "source": []
  },
  {
   "cell_type": "code",
   "execution_count": null,
   "metadata": {},
   "outputs": [],
   "source": []
  }
 ],
 "metadata": {
  "kernelspec": {
   "display_name": "Python 3",
   "language": "python",
   "name": "python3"
  },
  "language_info": {
   "codemirror_mode": {
    "name": "ipython",
    "version": 3
   },
   "file_extension": ".py",
   "mimetype": "text/x-python",
   "name": "python",
   "nbconvert_exporter": "python",
   "pygments_lexer": "ipython3",
   "version": "3.6.4"
  }
 },
 "nbformat": 4,
 "nbformat_minor": 2
}
